from pathlib import Path

# Create the content of the Jupyter notebook
notebook_content = {
    "cells": [
        {
            "cell_type": "markdown",
            "metadata": {},
            "source": [
                "# 📖 Bible Knowledge Graph: Cypher Query Notebook\n",
                "This notebook contains Cypher queries to explore the Bible Knowledge Graph using Neo4j.\n\n",
                "These queries assume the graph includes nodes like `Verse`, `Person`, `Place`, and `Theme`, with relevant relationships like `MENTIONS`, `IN_CHAPTER`, and `HAS_THEME`.\n"
            ]
        },
        {
            "cell_type": "code",
            "metadata": {},
            "execution_count": None,
            "outputs": [],
            "source": [
                "# 🔍 Which chapters mention both Moses and Egypt?\n",
                "%%cypher\n",
                "MATCH (m:Person {name: \"Moses\"})<-[:MENTIONS]-(v:Verse)-[:MENTIONS]->(e:Place {name: \"Egypt\"})\n",
                "MATCH (v)-[:IN_CHAPTER]->(c:Chapter)\n",
                "RETURN DISTINCT c.name AS chapter\n",
                "ORDER BY chapter"
            ]
        },
        {
            "cell_type": "code",
            "metadata": {},
            "execution_count": None,
            "outputs": [],
            "source": [
                "# 🧠 Top 10 most mentioned people\n",
                "%%cypher\n",
                "MATCH (p:Person)<-[:MENTIONS]-(v:Verse)\n",
                "RETURN p.name, count(*) AS mentions\n",
                "ORDER BY mentions DESC\n",
                "LIMIT 10"
            ]
        },
        {
            "cell_type": "code",
            "metadata": {},
            "execution_count": None,
            "outputs": [],
            "source": [
                "# 🌍 Places associated with Jesus\n",
                "%%cypher\n",
                "MATCH (jesus:Person {name: \"Jesus\"})<-[:MENTIONS]-(v:Verse)-[:MENTIONS]->(place:Place)\n",
                "RETURN place.name, count(*) AS co_mentions\n",
                "ORDER BY co_mentions DESC"
            ]
        },
        {
            "cell_type": "code",
            "metadata": {},
            "execution_count": None,
            "outputs": [],
            "source": [
                "# 🎭 Themes shared by verses that mention David\n",
                "%%cypher\n",
                "MATCH (d:Person {name: \"David\"})<-[:MENTIONS]-(v:Verse)-[:HAS_THEME]->(t:Theme)\n",
                "RETURN t.name, count(*) AS count\n",
                "ORDER BY count DESC"
            ]
        },
        {
            "cell_type": "code",
            "metadata": {},
            "execution_count": None,
            "outputs": [],
            "source": [
                "# 📚 Verses in a theme cluster labeled 'Prophecy'\n",
                "%%cypher\n",
                "MATCH (v:Verse)-[:HAS_THEME]->(t:Theme {name: \"Prophecy\"})\n",
                "RETURN v.verseId, v.text\n",
                "LIMIT 20"
            ]
        },
        {
            "cell_type": "code",
            "metadata": {},
            "execution_count": None,
            "outputs": [],
            "source": [
                "# 🧭 People that connect Old and New Testaments\n",
                "%%cypher\n",
                "MATCH (p:Person)<-[:MENTIONS]-(v:Verse)-[:IN_BOOK]->(b:Book)\n",
                "WITH p.name AS person, collect(DISTINCT b.name) AS books\n",
                "WHERE any(book IN books WHERE book STARTS WITH \"Genesis\" OR book = \"Isaiah\")\n",
                "  AND any(book IN books WHERE book STARTS WITH \"Matthew\" OR book = \"John\")\n",
                "RETURN person, books"
            ]
        },
        {
            "cell_type": "code",
            "metadata": {},
            "execution_count": None,
            "outputs": [],
            "source": [
                "# 🔗 Verse pairs sharing the same theme\n",
                "%%cypher\n",
                "MATCH (v1:Verse)-[:HAS_THEME]->(t:Theme)<-[:HAS_THEME]-(v2:Verse)\n",
                "WHERE v1 <> v2\n",
                "RETURN DISTINCT v1.verseId, v2.verseId, t.name\n",
                "LIMIT 20"
            ]
        },
        {
            "cell_type": "code",
            "metadata": {},
            "execution_count": None,
            "outputs": [],
            "source": [
                "# 🧬 Co-occurrence network: who appears with who\n",
                "%%cypher\n",
                "MATCH (v:Verse)-[:MENTIONS]->(p1:Person), (v)-[:MENTIONS]->(p2:Person)\n",
                "WHERE id(p1) < id(p2)\n",
                "RETURN p1.name, p2.name, count(*) AS co_mentions\n",
                "ORDER BY co_mentions DESC\n",
                "LIMIT 15"
            ]
        }
    ],
    "metadata": {
        "kernelspec": {
            "display_name": "Cypher",
            "language": "cypher",
            "name": "cypher"
        },
        "language_info": {
            "name": "cypher"
        }
    },
    "nbformat": 4,
    "nbformat_minor": 5
}

# Save the notebook
output_path = Path("notebooks/explore_graph.ipynb")
output_path.parent.mkdir(exist_ok=True)
with open(output_path, "w", encoding="utf-8") as f:
    import json
    json.dump(notebook_content, f, indent=2)

import ace_tools as tools; tools.display_dataframe_to_user(name="Notebook Created", dataframe=None)
